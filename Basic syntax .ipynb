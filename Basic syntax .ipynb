{
 "cells": [
  {
   "cell_type": "markdown",
   "id": "82cf21e9",
   "metadata": {},
   "source": [
    "# Basic Function \n"
   ]
  },
  {
   "cell_type": "code",
   "execution_count": 2,
   "id": "9a3b7b56",
   "metadata": {},
   "outputs": [
    {
     "name": "stdout",
     "output_type": "stream",
     "text": [
      "hello World !\n",
      "123\n"
     ]
    }
   ],
   "source": [
    "# Using print()\n",
    "\n",
    "\n",
    "print(\"hello World !\")\n",
    "print(123)"
   ]
  },
  {
   "cell_type": "code",
   "execution_count": 8,
   "id": "60b0ed64",
   "metadata": {},
   "outputs": [
    {
     "name": "stdout",
     "output_type": "stream",
     "text": [
      "12\n",
      "Python \n",
      "10.3\n"
     ]
    }
   ],
   "source": [
    "#using Type()\n",
    "\n",
    "\n",
    "a = 12\n",
    "print(a)\n",
    "\n",
    "b = \"Python \"\n",
    "print(b)\n",
    " \n",
    "c = 10.3\n",
    "print(c)\n"
   ]
  },
  {
   "cell_type": "code",
   "execution_count": 9,
   "id": "afbdab0e",
   "metadata": {},
   "outputs": [
    {
     "data": {
      "text/plain": [
       "int"
      ]
     },
     "execution_count": 9,
     "metadata": {},
     "output_type": "execute_result"
    }
   ],
   "source": [
    "type(a)"
   ]
  },
  {
   "cell_type": "code",
   "execution_count": 10,
   "id": "24705036",
   "metadata": {},
   "outputs": [
    {
     "data": {
      "text/plain": [
       "str"
      ]
     },
     "execution_count": 10,
     "metadata": {},
     "output_type": "execute_result"
    }
   ],
   "source": [
    "type(b)"
   ]
  },
  {
   "cell_type": "code",
   "execution_count": 11,
   "id": "ece490d1",
   "metadata": {},
   "outputs": [
    {
     "data": {
      "text/plain": [
       "float"
      ]
     },
     "execution_count": 11,
     "metadata": {},
     "output_type": "execute_result"
    }
   ],
   "source": [
    "type (c)"
   ]
  },
  {
   "cell_type": "code",
   "execution_count": 15,
   "id": "e798a846",
   "metadata": {},
   "outputs": [
    {
     "name": "stdout",
     "output_type": "stream",
     "text": [
      "Enter the value of A :\n",
      "A: \n"
     ]
    }
   ],
   "source": [
    "# Using input()\n",
    "\n",
    "a = input(\"Enter the value of A :\")\n",
    "print(\"A:\",a)\n"
   ]
  },
  {
   "cell_type": "markdown",
   "id": "3198cecd",
   "metadata": {},
   "source": [
    "# mutli-line comments\n"
   ]
  },
  {
   "cell_type": "code",
   "execution_count": 16,
   "id": "71c72c85",
   "metadata": {},
   "outputs": [],
   "source": [
    "# write\n",
    "# write\n",
    "# write\n",
    "\n",
    "\n",
    "# ctrl+?  "
   ]
  },
  {
   "cell_type": "code",
   "execution_count": 18,
   "id": "ce57e3de",
   "metadata": {},
   "outputs": [
    {
     "name": "stdout",
     "output_type": "stream",
     "text": [
      "\n",
      "Here is a list of the Python keywords.  Enter any keyword to get more help.\n",
      "\n",
      "False               break               for                 not\n",
      "None                class               from                or\n",
      "True                continue            global              pass\n",
      "__peg_parser__      def                 if                  raise\n",
      "and                 del                 import              return\n",
      "as                  elif                in                  try\n",
      "assert              else                is                  while\n",
      "async               except              lambda              with\n",
      "await               finally             nonlocal            yield\n",
      "\n"
     ]
    }
   ],
   "source": [
    "# key words\n",
    "\n",
    "\n",
    "help(\"keywords\")"
   ]
  },
  {
   "cell_type": "markdown",
   "id": "e8e6cb12",
   "metadata": {},
   "source": [
    "# Datatype in python"
   ]
  },
  {
   "cell_type": "code",
   "execution_count": 19,
   "id": "b74ca0f1",
   "metadata": {},
   "outputs": [],
   "source": [
    "# numeric :- integer,float,complex number .\n",
    "# boolean.\n",
    "# set.\n",
    "# dictionary.\n",
    "# sequence :- list,tuple,string.\n",
    "\n"
   ]
  },
  {
   "cell_type": "markdown",
   "id": "02f3ed35",
   "metadata": {},
   "source": [
    "# numeric :- integer,float,complex number \n",
    "\n"
   ]
  },
  {
   "cell_type": "code",
   "execution_count": 25,
   "id": "fe2403d5",
   "metadata": {},
   "outputs": [
    {
     "name": "stdout",
     "output_type": "stream",
     "text": [
      "<class 'int'>\n",
      "<class 'float'>\n",
      "<class 'complex'>\n"
     ]
    }
   ],
   "source": [
    "# int datatype\n",
    "\n",
    "a = 20\n",
    "print(type(a))\n",
    "\n",
    "# float datatype \n",
    "\n",
    "g = 10.5\n",
    "print(type(g))\n",
    "\n",
    "#complex\n",
    "\n",
    "h = 2+4j\n",
    "print(type(h))"
   ]
  },
  {
   "cell_type": "markdown",
   "id": "30e680ae",
   "metadata": {},
   "source": [
    "# Boolean Datatype"
   ]
  },
  {
   "cell_type": "code",
   "execution_count": 26,
   "id": "34e6288b",
   "metadata": {},
   "outputs": [
    {
     "name": "stdout",
     "output_type": "stream",
     "text": [
      "<class 'bool'>\n"
     ]
    }
   ],
   "source": [
    "a = True\n",
    "print(type(a))"
   ]
  },
  {
   "cell_type": "code",
   "execution_count": 27,
   "id": "fd2ffa5a",
   "metadata": {},
   "outputs": [
    {
     "name": "stdout",
     "output_type": "stream",
     "text": [
      "<class 'bool'>\n"
     ]
    }
   ],
   "source": [
    "e = False\n",
    "print(type(e))"
   ]
  },
  {
   "cell_type": "markdown",
   "id": "a16486f0",
   "metadata": {},
   "source": [
    "# Set Datatype"
   ]
  },
  {
   "cell_type": "code",
   "execution_count": 28,
   "id": "94bc4229",
   "metadata": {},
   "outputs": [
    {
     "name": "stdout",
     "output_type": "stream",
     "text": [
      "<class 'set'>\n"
     ]
    }
   ],
   "source": [
    "f = {'a','b','c'}\n",
    "print(type(f))"
   ]
  },
  {
   "cell_type": "markdown",
   "id": "b3b01850",
   "metadata": {},
   "source": [
    "# Dictionary Datatype"
   ]
  },
  {
   "cell_type": "code",
   "execution_count": 29,
   "id": "c52ec5ac",
   "metadata": {},
   "outputs": [
    {
     "name": "stdout",
     "output_type": "stream",
     "text": [
      "<class 'dict'>\n"
     ]
    }
   ],
   "source": [
    "x = {\"key\":\"value\"}\n",
    "print(type(x))"
   ]
  },
  {
   "cell_type": "markdown",
   "id": "de636e36",
   "metadata": {},
   "source": [
    "# Sequence Datatype"
   ]
  },
  {
   "cell_type": "code",
   "execution_count": 30,
   "id": "f80f3a1d",
   "metadata": {},
   "outputs": [
    {
     "name": "stdout",
     "output_type": "stream",
     "text": [
      "<class 'list'>\n"
     ]
    }
   ],
   "source": [
    "# list\n",
    "\n",
    "l1=[1,2,4,6,7]\n",
    "print(type(l1))"
   ]
  },
  {
   "cell_type": "code",
   "execution_count": 31,
   "id": "ad7fb4d9",
   "metadata": {},
   "outputs": [
    {
     "name": "stdout",
     "output_type": "stream",
     "text": [
      "<class 'str'>\n"
     ]
    }
   ],
   "source": [
    "# String Datatype\n",
    "\n",
    "y = \"python\"\n",
    "print(type(y))"
   ]
  },
  {
   "cell_type": "code",
   "execution_count": 32,
   "id": "82e6aac6",
   "metadata": {},
   "outputs": [
    {
     "name": "stdout",
     "output_type": "stream",
     "text": [
      "<class 'tuple'>\n"
     ]
    }
   ],
   "source": [
    "#Tuple Datatype\n",
    "\n",
    "t1=(1,2,3,3,4,4)\n",
    "print(type(t1))"
   ]
  },
  {
   "cell_type": "code",
   "execution_count": null,
   "id": "375f2e8f",
   "metadata": {},
   "outputs": [],
   "source": []
  }
 ],
 "metadata": {
  "kernelspec": {
   "display_name": "Python 3 (ipykernel)",
   "language": "python",
   "name": "python3"
  },
  "language_info": {
   "codemirror_mode": {
    "name": "ipython",
    "version": 3
   },
   "file_extension": ".py",
   "mimetype": "text/x-python",
   "name": "python",
   "nbconvert_exporter": "python",
   "pygments_lexer": "ipython3",
   "version": "3.9.13"
  }
 },
 "nbformat": 4,
 "nbformat_minor": 5
}
